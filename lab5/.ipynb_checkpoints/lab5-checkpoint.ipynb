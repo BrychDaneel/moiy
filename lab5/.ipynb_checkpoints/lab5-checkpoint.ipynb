{
 "cells": [
  {
   "cell_type": "code",
   "execution_count": 2,
   "metadata": {},
   "outputs": [],
   "source": [
    "import numpy\n",
    "from numpy import linalg\n",
    "\n",
    "from sympy.solvers import solve\n",
    "from sympy import Symbol, Eq"
   ]
  },
  {
   "cell_type": "code",
   "execution_count": 33,
   "metadata": {},
   "outputs": [],
   "source": [
    "def buld_g(ub, m, n):\n",
    "    g = []\n",
    "    for i, j in ub:\n",
    "        \n",
    "        d = 1\n",
    "        while i + d < m:\n",
    "            if (i + d, j) in ub:\n",
    "                g.append(((i, j), (i + d, j)))\n",
    "                g.append(((i + d, j), (i, j)))\n",
    "                break\n",
    "            d += 1\n",
    "        \n",
    "        d = 1\n",
    "        while j + d < n:\n",
    "            if (i, j + d) in ub:\n",
    "                g.append(((i, j), (i, j + d)))\n",
    "                g.append(((i, j + d), (i, j)))\n",
    "                break\n",
    "            d += 1\n",
    "    \n",
    "    return g\n",
    "\n",
    "def find_circle(g, i, j, pi=None, pj=None, visited=[]):\n",
    "    if (i, j) in visited:\n",
    "        return True, [(i, j)]\n",
    "    visited.append((i, j))\n",
    "    for (fi, fj), (ti, tj) in g:\n",
    "        if (fi, fj) == (i, j) and (ti, tj) != (pi, pj):\n",
    "            found, lst = find_circle(g, ti, tj, i, j)\n",
    "            if found:\n",
    "                lst.append((i, j))\n",
    "                if pi == None:\n",
    "                    visited.clear()\n",
    "                return found, lst\n",
    "    return False, None\n",
    "        \n",
    "\n",
    "def transport(a, b, c):\n",
    "    \n",
    "    m = len(a)\n",
    "    n = len(b)\n",
    "    \n",
    "    x = numpy.mat(numpy.zeros((m, n)))\n",
    "    i = 0\n",
    "    j = 0\n",
    "    aa = a[:]\n",
    "    bb = b[:]\n",
    "    ub = []\n",
    "    while i < m:\n",
    "        while aa[i]:\n",
    "            ub.append((i, j))\n",
    "            q = min(aa[i], bb[j])\n",
    "            x[i, j] = q\n",
    "            aa[i] -= q\n",
    "            bb[j] -= q\n",
    "            if aa[i]:\n",
    "                j += 1\n",
    "        i += 1\n",
    "    \n",
    "    while True:\n",
    "                \n",
    "        unb = []\n",
    "        for i in range(m):\n",
    "            for j in range(n):\n",
    "                if (i, j) not in ub:\n",
    "                    unb.append((i, j))\n",
    "        u = []\n",
    "        v = []\n",
    "        for i in range(m):\n",
    "            u.append(Symbol('u{}'.format(i)))\n",
    "        for i in range(n):\n",
    "            v.append(Symbol('v{}'.format(i)))\n",
    "\n",
    "        system = [Eq(u[0], 0)]\n",
    "        for i, j in ub:\n",
    "            system.append(Eq(u[i] + v[j], c[i, j]))\n",
    "        \n",
    "        up = u + v\n",
    "        res = solve(system, up)\n",
    "\n",
    "        res = [res[p] for p in up]\n",
    "        u = res[:len(u)]\n",
    "        v = res[len(u):]\n",
    "        \n",
    "        for i, j in unb:\n",
    "            if u[i] + v[j] > c[i, j]:\n",
    "                fi = i\n",
    "                fj = j\n",
    "                break\n",
    "        else:\n",
    "            break\n",
    "        \n",
    "        ub.append((fi, fj))\n",
    "        \n",
    "        g = buld_g(ub, m, n)\n",
    "        _, crc = find_circle(g, fi, fj)\n",
    "        \n",
    "        angle_crc = [(fi, fj)]\n",
    "        for i in range(1, len(crc) - 1):\n",
    "            if crc[i][0] - crc[i - 1][0] != crc[i + 1][0] - crc[i][0]:\n",
    "                angle_crc.append(crc[i])\n",
    "        \n",
    "        p_a = []\n",
    "        n_a = []\n",
    "        sw = True\n",
    "        for ang in angle_crc:\n",
    "            if sw:\n",
    "                p_a.append(ang)\n",
    "            else:\n",
    "                n_a.append(ang)\n",
    "            sw = False if sw else True \n",
    "\n",
    "        oi, oj = n_a[0]\n",
    "        o = x[oi, oj]\n",
    "        for i, j in n_a:\n",
    "            if o > x[i, j]:\n",
    "                o = x[i, j]\n",
    "                oi, oj = i, j\n",
    "        \n",
    "        for i, j in n_a:\n",
    "            x[i, j] -= o\n",
    "        \n",
    "        for i, j in p_a:\n",
    "            x[i, j] += o\n",
    "            \n",
    "        ub.remove((oi, oj))\n",
    "            \n",
    "    sm = 0\n",
    "    for i in range(m):\n",
    "        for j in range(n):\n",
    "            sm += x[i,j] * c[i,j]\n",
    "    return abs(sm), x"
   ]
  },
  {
   "cell_type": "code",
   "execution_count": 34,
   "metadata": {},
   "outputs": [
    {
     "name": "stdout",
     "output_type": "stream",
     "text": [
      "Затраты:  3900.0\n",
      "План:\n",
      "[[   0.    0.  100.]\n",
      " [   0.  200.  100.]\n",
      " [ 300.    0.    0.]]\n"
     ]
    }
   ],
   "source": [
    "a = [100, 300, 300]\n",
    "b = [300, 200, 200]\n",
    "c = numpy.mat([[8, 4, 1], [8, 4, 3], [9, 7, 5]])\n",
    "sm, ans = transport(a, b, c)\n",
    "print('Затраты: ', sm)\n",
    "print('План:')\n",
    "print(ans)"
   ]
  },
  {
   "cell_type": "code",
   "execution_count": 35,
   "metadata": {},
   "outputs": [
    {
     "name": "stdout",
     "output_type": "stream",
     "text": [
      "Затраты:  130.0\n",
      "План:\n",
      "[[  0.   0.  10.   0.   0.  10.]\n",
      " [  0.   0.   0.  10.  10.  10.]\n",
      " [ 10.  10.   0.   0.   0.   5.]]\n"
     ]
    }
   ],
   "source": [
    "a = [20, 30, 25]\n",
    "b = [10, 10, 10, 10, 10, 25]\n",
    "c = numpy.mat([\n",
    "               [2, 8, -5, 7, 10, 0], \n",
    "               [11, 5, 8, -8, -4, 0], \n",
    "               [1, 3, 7, 4, 2, 0]\n",
    "              ])\n",
    "sm, ans = transport(a, b, c)\n",
    "print('Затраты: ', sm)\n",
    "print('План:')\n",
    "print(ans)"
   ]
  },
  {
   "cell_type": "code",
   "execution_count": 36,
   "metadata": {},
   "outputs": [
    {
     "name": "stdout",
     "output_type": "stream",
     "text": [
      "Затраты:  111.0\n",
      "План:\n",
      "[[  0.  31.   1.   3.  18.   0.]\n",
      " [  0.   0.   0.   0.   0.  20.]\n",
      " [ 15.   0.   9.   0.   0.  21.]\n",
      " [  0.   0.   0.   0.   0.  38.]]\n"
     ]
    }
   ],
   "source": [
    "a = [53, 20, 45, 38]   # = 156\n",
    "b = [15, 31, 10, 3, 18, 79] # = 77 + 79\n",
    "\n",
    "c = numpy.mat([\n",
    "               [3, 0, 3, 1, 6, 0],\n",
    "               [2, 4, 10, 5, 7, 0],\n",
    "               [-2, 5, 3, 2, 9, 0],\n",
    "               [1, 3, 5, 1, 9, 0]\n",
    "              ])\n",
    "sm, ans = transport(a, b, c)\n",
    "print('Затраты: ', sm)\n",
    "print('План:')\n",
    "print(ans)"
   ]
  },
  {
   "cell_type": "code",
   "execution_count": 38,
   "metadata": {},
   "outputs": [
    {
     "name": "stdout",
     "output_type": "stream",
     "text": [
      "Затраты:  131.0\n",
      "План:\n",
      "[[  2.   0.   0.  11.   0.]\n",
      " [  5.   0.   0.   0.   0.]\n",
      " [  1.   0.   6.   0.   0.]\n",
      " [  2.   5.   0.   0.   2.]\n",
      " [ 10.   0.   0.   0.   0.]]\n"
     ]
    }
   ],
   "source": [
    "a = [13, 5, 7, 9, 10]   # = 44\n",
    "b = [20, 5, 6, 11, 2] # = 42 + 2\n",
    "\n",
    "c = numpy.mat([\n",
    "               [2, 6, 8, -3, 0],\n",
    "               [3, 2, 12, 4, 0],\n",
    "               [7, 2, 5, 7, 0],\n",
    "               [9, 2, 14, 9, 0],\n",
    "               [8, 7, 8, 8, 0] \n",
    "              ])\n",
    "\n",
    "sm, ans = transport(a, b, c)\n",
    "print('Затраты: ', sm)\n",
    "print('План:')\n",
    "print(ans)"
   ]
  },
  {
   "cell_type": "code",
   "execution_count": null,
   "metadata": {},
   "outputs": [],
   "source": []
  }
 ],
 "metadata": {
  "kernelspec": {
   "display_name": "Python 3",
   "language": "python",
   "name": "python3"
  },
  "language_info": {
   "codemirror_mode": {
    "name": "ipython",
    "version": 3
   },
   "file_extension": ".py",
   "mimetype": "text/x-python",
   "name": "python",
   "nbconvert_exporter": "python",
   "pygments_lexer": "ipython3",
   "version": "3.5.2"
  }
 },
 "nbformat": 4,
 "nbformat_minor": 2
}
