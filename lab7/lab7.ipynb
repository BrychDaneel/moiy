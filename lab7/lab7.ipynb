{
 "cells": [
  {
   "cell_type": "code",
   "execution_count": 2,
   "metadata": {},
   "outputs": [],
   "source": [
    "import data\n",
    "import sympy\n",
    "from sympy import Symbol as S, diff\n",
    "from numpy import matrix as M\n",
    "import numpy\n",
    "from sympy import And, Ge, Gt, Le, Lt, Rel, S"
   ]
  },
  {
   "cell_type": "code",
   "execution_count": 3,
   "metadata": {},
   "outputs": [],
   "source": [
    "from data import n\n",
    "from data import m\n",
    "from data import c\n",
    "from data import c0\n",
    "from data import b\n",
    "from data import b0\n",
    "from data import a\n",
    "from data import xs\n",
    "from data import xu\n",
    "\n",
    "from numpy import float64\n",
    "from scipy.optimize import linprog\n",
    "from pprint import pprint"
   ]
  },
  {
   "cell_type": "code",
   "execution_count": 4,
   "metadata": {},
   "outputs": [],
   "source": [
    "EPS = 0.001"
   ]
  },
  {
   "cell_type": "code",
   "execution_count": 5,
   "metadata": {},
   "outputs": [],
   "source": [
    "x = M([S('x{}'.format(i)) for i in range(1, n+1)]).T"
   ]
  },
  {
   "cell_type": "code",
   "execution_count": 6,
   "metadata": {},
   "outputs": [],
   "source": [
    "xs_dict = {x[i, 0]: xs[i, 0] for i in range(n)}"
   ]
  },
  {
   "cell_type": "code",
   "execution_count": 7,
   "metadata": {},
   "outputs": [],
   "source": [
    "f = c0 * x + 0.5 * x.T * b0.T * b0 * x\n",
    "f = f[0,0]\n",
    "g = []\n",
    "for i in range(m):\n",
    "    g.append((0.5 * x.T * b[i].T * b[i] * x + c[i] * x + a[i])[0,0])"
   ]
  },
  {
   "cell_type": "code",
   "execution_count": 8,
   "metadata": {},
   "outputs": [],
   "source": [
    "l = M([S('l{}'.format(i)) for i in range(1, n+1)]).T"
   ]
  },
  {
   "cell_type": "code",
   "execution_count": 9,
   "metadata": {},
   "outputs": [],
   "source": [
    "lp_c = [diff(f, x[i, 0]).subs(xs_dict) for i in range(n)]"
   ]
  },
  {
   "cell_type": "code",
   "execution_count": 10,
   "metadata": {},
   "outputs": [],
   "source": [
    "active = [i for i in range(m) if abs(g[i].subs(xs_dict)) < EPS]"
   ]
  },
  {
   "cell_type": "code",
   "execution_count": 11,
   "metadata": {},
   "outputs": [],
   "source": [
    "lp_a_ub = []\n",
    "lp_b_ub = []\n",
    "\n",
    "for i in active:\n",
    "    lp_a_ub.append([diff(g[i], x[ii, 0]).subs(xs_dict) for ii in range(n)])\n",
    "    lp_b_ub.append(0)\n",
    "\n",
    "x_bound = []\n",
    "for i in range(n):\n",
    "    x_bound.append((-1 if abs(xs[i,0]) > EPS else 0, 1))"
   ]
  },
  {
   "cell_type": "code",
   "execution_count": 12,
   "metadata": {},
   "outputs": [
    {
     "data": {
      "text/plain": [
       "matrix([[-1.        ],\n",
       "        [ 0.        ],\n",
       "        [ 0.31359649],\n",
       "        [-1.        ],\n",
       "        [-1.        ],\n",
       "        [-1.        ],\n",
       "        [ 0.        ],\n",
       "        [ 0.        ]])"
      ]
     },
     "execution_count": 12,
     "metadata": {},
     "output_type": "execute_result"
    }
   ],
   "source": [
    "res = linprog(lp_c, A_ub=lp_a_ub, b_ub=lp_b_ub, bounds=x_bound)\n",
    "l0 = M(res.x).T\n",
    "l0"
   ]
  },
  {
   "cell_type": "code",
   "execution_count": 13,
   "metadata": {},
   "outputs": [
    {
     "data": {
      "text/plain": [
       "-390.31359649122805"
      ]
     },
     "execution_count": 13,
     "metadata": {},
     "output_type": "execute_result"
    }
   ],
   "source": [
    "a = M([diff(f, x[i, 0]).subs(xs_dict) for i in range(n)], dtype=float) * l0\n",
    "a = a[0,0]\n",
    "a"
   ]
  },
  {
   "cell_type": "code",
   "execution_count": 14,
   "metadata": {},
   "outputs": [
    {
     "data": {
      "text/plain": [
       "-750.0"
      ]
     },
     "execution_count": 14,
     "metadata": {},
     "output_type": "execute_result"
    }
   ],
   "source": [
    "b = M([diff(f, x[i, 0]).subs(xs_dict) for i in range(n)], dtype=float) * (xu - xs)\n",
    "b = b[0,0]\n",
    "b"
   ]
  },
  {
   "cell_type": "code",
   "execution_count": 15,
   "metadata": {},
   "outputs": [
    {
     "data": {
      "text/plain": [
       "1"
      ]
     },
     "execution_count": 15,
     "metadata": {},
     "output_type": "execute_result"
    }
   ],
   "source": [
    "alpha = -a/2/b if b>0 else 1\n",
    "alpha"
   ]
  },
  {
   "cell_type": "code",
   "execution_count": 16,
   "metadata": {},
   "outputs": [
    {
     "data": {
      "text/plain": [
       "matrix([[ 0.        ],\n",
       "        [ 0.        ],\n",
       "        [ 0.15679825],\n",
       "        [ 0.5       ],\n",
       "        [ 1.5       ],\n",
       "        [ 0.5       ],\n",
       "        [ 0.        ],\n",
       "        [ 0.        ]])"
      ]
     },
     "execution_count": 16,
     "metadata": {},
     "output_type": "execute_result"
    }
   ],
   "source": [
    "t = 1.0\n",
    "new_x = xu[:]\n",
    "while True:\n",
    "    new_x = xs + t * l0 + alpha * t * (xu - xs)\n",
    "    new_x_dict = {x[i, 0]: new_x[i, 0] for i in range(n)}\n",
    "    norm = True\n",
    "    for i in range(m):\n",
    "        if f.subs(new_x_dict) <= 0:\n",
    "            norm = False\n",
    "\n",
    "    norm = norm and (new_x>=0).all()\n",
    "    if norm and f.subs(new_x_dict) < f.subs(xs_dict):\n",
    "        break\n",
    "    t /= 2\n",
    "new_x"
   ]
  },
  {
   "cell_type": "code",
   "execution_count": null,
   "metadata": {},
   "outputs": [],
   "source": []
  },
  {
   "cell_type": "code",
   "execution_count": null,
   "metadata": {},
   "outputs": [],
   "source": []
  }
 ],
 "metadata": {
  "kernelspec": {
   "display_name": "Python 3",
   "language": "python",
   "name": "python3"
  },
  "language_info": {
   "codemirror_mode": {
    "name": "ipython",
    "version": 3
   },
   "file_extension": ".py",
   "mimetype": "text/x-python",
   "name": "python",
   "nbconvert_exporter": "python",
   "pygments_lexer": "ipython3",
   "version": "3.5.2"
  }
 },
 "nbformat": 4,
 "nbformat_minor": 2
}
