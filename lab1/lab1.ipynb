{
 "cells": [
  {
   "cell_type": "code",
   "execution_count": 2,
   "metadata": {},
   "outputs": [],
   "source": [
    "import numpy\n",
    "from numpy import linalg"
   ]
  },
  {
   "cell_type": "code",
   "execution_count": 3,
   "metadata": {},
   "outputs": [],
   "source": [
    "def smartReverse(a, na, x, i):\n",
    "    n = x.size\n",
    "    \n",
    "    ha = a.copy()\n",
    "    ha[:, i] = x\n",
    "    \n",
    "    l = na * x\n",
    "    if l[i, 0] == 0:\n",
    "        print('Матрица необратима')\n",
    "    \n",
    "    wl = l.copy()\n",
    "    wl[i, 0] = -1\n",
    "    \n",
    "    dl = (-1 / l[i])[0,0] * wl\n",
    "    q = numpy.mat(numpy.eye(n))\n",
    "    q[:, i] = dl[:,0]\n",
    "    return q * na"
   ]
  },
  {
   "cell_type": "code",
   "execution_count": 100,
   "metadata": {},
   "outputs": [],
   "source": [
    "infynity = 10000000\n",
    "\n",
    "def simplex(a, c, x, ib, du, dd):\n",
    "    n = len(x)\n",
    "    inb = set(range(n)) - set(ib)\n",
    "    ab = a[:, ib]\n",
    "    nab = linalg.inv(ab)\n",
    "    m = len(ib)\n",
    "    \n",
    "    \n",
    "    while True:\n",
    "        print(\"ITER\")\n",
    "        cb = c[ib, :]\n",
    "        ut = cb.transpose() * nab\n",
    "        d = ut * a - c.transpose()\n",
    "\n",
    "        for i in inb:\n",
    "            if (d[0, i] < 0  and x[i]<dd[i]+0.001) or (d[0, i] > 0  and x[i]>du[i]-0.001):\n",
    "            #if (d[0, i] < 0  and x[i]==dd[i]) or (d[0, i] > 0  and x[i]==du[i]):\n",
    "                j0 = i\n",
    "                print(j0)\n",
    "                break\n",
    "        else:\n",
    "            return x, ib, nab\n",
    "\n",
    "        z0 = 1 if d[0, j0] < 0 else -1\n",
    "        print('z0:',z0)\n",
    "        z = -z0 * nab * a[:, j0]\n",
    "        print('z:',z)\n",
    "        zz = nab * a[:, j0]\n",
    "        o = []\n",
    "        for i in range(m):\n",
    "            if z[i, 0] > 0:\n",
    "                o.append((du[ib[i]] - x[ib[i]]) / z[i, 0])\n",
    "            elif z[i, 0] < 0:\n",
    "                o.append((dd[ib[i]] - x[ib[i]]) / z[i, 0])\n",
    "            else:\n",
    "                o.append(infynity)\n",
    "        \n",
    "        print('o:',o)\n",
    "        s = -1\n",
    "        o0 = infynity\n",
    "        for i in range(len(ib)):\n",
    "            if o[i] < o0:\n",
    "                s = i\n",
    "                o0 = o[i]\n",
    "        if s == -1:\n",
    "            return None, None, None\n",
    "        \n",
    "        print('o0:',o0)\n",
    "\n",
    "        #x[j0] = o0\n",
    "        for i in range(len(ib)):\n",
    "            x[ib[i]] = x[ib[i]] + o0 * z[i,0]\n",
    "            \n",
    "        x[j0] = x[j0] + o0 * z0\n",
    "        ib[s] = j0\n",
    "        #for i in set(range(n)) - set(ib):\n",
    "        #    x[i] = 0\n",
    "        \n",
    "\n",
    "        nab = smartReverse(ab, nab, a[:,j0], s)\n",
    "\n",
    "        #zzs = zz[s]\n",
    "        #zz[s] = -1\n",
    "        #ds = -zz / zzs\n",
    "        #M = numpy.matrix(numpy.eye(m), dtype=numpy.float64)\n",
    "        #M[:, s] = ds\n",
    "        #nab = M * nab\n",
    "        #print()\n",
    "        \n",
    "        ab[:,s] = a[:,j0]\n",
    "        print(x)\n",
    "        "
   ]
  },
  {
   "cell_type": "code",
   "execution_count": 43,
   "metadata": {},
   "outputs": [
    {
     "data": {
      "text/plain": [
       "matrix([[ 1.,  1., -1.],\n",
       "        [ 0.,  1.,  0.],\n",
       "        [ 0.,  0.,  1.]])"
      ]
     },
     "execution_count": 43,
     "metadata": {},
     "output_type": "execute_result"
    }
   ],
   "source": [
    "a = numpy.mat( [[1, -1, 0],[0,1,0], [0,0,1]] , dtype=numpy.float64)\n",
    "na = numpy.mat( [[1, 1, 0],[0,1,0], [0,0,1]] , dtype=numpy.float64)\n",
    "x = numpy.mat([[1], [0], [1]])\n",
    "smartReverse(a, na, x, 2)"
   ]
  },
  {
   "cell_type": "code",
   "execution_count": 44,
   "metadata": {},
   "outputs": [
    {
     "ename": "TypeError",
     "evalue": "simplex() missing 2 required positional arguments: 'du' and 'dd'",
     "output_type": "error",
     "traceback": [
      "\u001b[0;31m---------------------------------------------------------------------------\u001b[0m",
      "\u001b[0;31mTypeError\u001b[0m                                 Traceback (most recent call last)",
      "\u001b[0;32m<ipython-input-44-f834b6ad6622>\u001b[0m in \u001b[0;36m<module>\u001b[0;34m()\u001b[0m\n\u001b[1;32m      3\u001b[0m \u001b[0mx\u001b[0m \u001b[0;34m=\u001b[0m \u001b[0;34m[\u001b[0m\u001b[0;36m0\u001b[0m\u001b[0;34m,\u001b[0m \u001b[0;36m0\u001b[0m\u001b[0;34m,\u001b[0m \u001b[0;36m1\u001b[0m\u001b[0;34m,\u001b[0m \u001b[0;36m3\u001b[0m\u001b[0;34m,\u001b[0m \u001b[0;36m2\u001b[0m\u001b[0;34m]\u001b[0m\u001b[0;34m\u001b[0m\u001b[0m\n\u001b[1;32m      4\u001b[0m \u001b[0mib\u001b[0m \u001b[0;34m=\u001b[0m \u001b[0;34m[\u001b[0m\u001b[0;36m2\u001b[0m\u001b[0;34m,\u001b[0m \u001b[0;36m3\u001b[0m\u001b[0;34m,\u001b[0m \u001b[0;36m4\u001b[0m\u001b[0;34m]\u001b[0m\u001b[0;34m\u001b[0m\u001b[0m\n\u001b[0;32m----> 5\u001b[0;31m \u001b[0msimplex\u001b[0m\u001b[0;34m(\u001b[0m\u001b[0ma\u001b[0m\u001b[0;34m,\u001b[0m \u001b[0mc\u001b[0m\u001b[0;34m,\u001b[0m \u001b[0mx\u001b[0m\u001b[0;34m,\u001b[0m \u001b[0mib\u001b[0m\u001b[0;34m)\u001b[0m\u001b[0;34m\u001b[0m\u001b[0m\n\u001b[0m",
      "\u001b[0;31mTypeError\u001b[0m: simplex() missing 2 required positional arguments: 'du' and 'dd'"
     ]
    }
   ],
   "source": [
    "a = numpy.mat( [[-1, 1, 1, 0, 0],[1, 0, 0, 1, 0], [0, 1, 0, 0, 1]] , dtype=numpy.float64)\n",
    "c = numpy.mat( [[1], [1], [0], [0], [0]], dtype=numpy.float64 )\n",
    "x = [0, 0, 1, 3, 2]\n",
    "ib = [2, 3, 4]\n",
    "simplex(a, c, x, ib)"
   ]
  },
  {
   "cell_type": "code",
   "execution_count": 8,
   "metadata": {},
   "outputs": [
    {
     "ename": "ValueError",
     "evalue": "too many values to unpack (expected 2)",
     "output_type": "error",
     "traceback": [
      "\u001b[0;31m---------------------------------------------------------------------------\u001b[0m",
      "\u001b[0;31mValueError\u001b[0m                                Traceback (most recent call last)",
      "\u001b[0;32m<ipython-input-8-02d6551fafda>\u001b[0m in \u001b[0;36m<module>\u001b[0;34m()\u001b[0m\n\u001b[1;32m      6\u001b[0m \u001b[0mx\u001b[0m \u001b[0;34m=\u001b[0m \u001b[0;34m[\u001b[0m\u001b[0;36m4\u001b[0m\u001b[0;34m,\u001b[0m \u001b[0;36m0\u001b[0m\u001b[0;34m,\u001b[0m \u001b[0;36m6\u001b[0m\u001b[0;34m,\u001b[0m \u001b[0;36m0\u001b[0m\u001b[0;34m,\u001b[0m \u001b[0;36m4\u001b[0m\u001b[0;34m,\u001b[0m \u001b[0;36m0\u001b[0m\u001b[0;34m,\u001b[0m \u001b[0;36m0\u001b[0m\u001b[0;34m,\u001b[0m \u001b[0;36m0\u001b[0m\u001b[0;34m]\u001b[0m\u001b[0;34m\u001b[0m\u001b[0m\n\u001b[1;32m      7\u001b[0m \u001b[0mib\u001b[0m \u001b[0;34m=\u001b[0m \u001b[0;34m[\u001b[0m\u001b[0;36m0\u001b[0m\u001b[0;34m,\u001b[0m \u001b[0;36m2\u001b[0m\u001b[0;34m,\u001b[0m \u001b[0;36m4\u001b[0m\u001b[0;34m]\u001b[0m\u001b[0;34m\u001b[0m\u001b[0m\n\u001b[0;32m----> 8\u001b[0;31m \u001b[0mv\u001b[0m\u001b[0;34m,\u001b[0m \u001b[0mind\u001b[0m \u001b[0;34m=\u001b[0m \u001b[0msimplex\u001b[0m\u001b[0;34m(\u001b[0m\u001b[0ma\u001b[0m\u001b[0;34m,\u001b[0m \u001b[0mc\u001b[0m\u001b[0;34m,\u001b[0m \u001b[0mx\u001b[0m\u001b[0;34m,\u001b[0m \u001b[0mib\u001b[0m\u001b[0;34m)\u001b[0m\u001b[0;34m\u001b[0m\u001b[0m\n\u001b[0m\u001b[1;32m      9\u001b[0m \u001b[0mprint\u001b[0m\u001b[0;34m(\u001b[0m\u001b[0;34m'Best x: '\u001b[0m\u001b[0;34m,\u001b[0m\u001b[0mv\u001b[0m\u001b[0;34m)\u001b[0m\u001b[0;34m\u001b[0m\u001b[0m\n\u001b[1;32m     10\u001b[0m \u001b[0mprint\u001b[0m\u001b[0;34m(\u001b[0m\u001b[0;34m'Max fun: '\u001b[0m\u001b[0;34m,\u001b[0m\u001b[0;34m(\u001b[0m\u001b[0mv\u001b[0m\u001b[0;34m*\u001b[0m\u001b[0mc\u001b[0m\u001b[0;34m)\u001b[0m\u001b[0;34m[\u001b[0m\u001b[0;36m0\u001b[0m\u001b[0;34m,\u001b[0m\u001b[0;36m0\u001b[0m\u001b[0;34m]\u001b[0m\u001b[0;34m)\u001b[0m\u001b[0;34m\u001b[0m\u001b[0m\n",
      "\u001b[0;31mValueError\u001b[0m: too many values to unpack (expected 2)"
     ]
    }
   ],
   "source": [
    "a = numpy.mat( [[-2, -1, 1, -7, 0, 0, 0, 2],\n",
    "                [4, 2, -1, 0, 1, 5, -1, -5],\n",
    "                [1, 11, 0, 1, 0, 3, 1, 1]] , \n",
    "              dtype=numpy.float64)\n",
    "c = numpy.mat( [[6], [-9], [5], [-2], [6], [0], [-1], [3]], dtype=numpy.float64 )\n",
    "x = [4, 0, 6, 0, 4, 0, 0, 0]\n",
    "ib = [0, 2, 4]\n",
    "v, ind = simplex(a, c, x, ib)\n",
    "print('Best x: ',v)\n",
    "print('Max fun: ',(v*c)[0,0])"
   ]
  },
  {
   "cell_type": "code",
   "execution_count": 9,
   "metadata": {},
   "outputs": [],
   "source": [
    "def simplex_start(a, b, c):\n",
    "    n = len(c)\n",
    "    m = len(b)\n",
    "    for i in range(m):\n",
    "        if b[i] < 0:\n",
    "            b[i] *= -1\n",
    "            a[i] = -a[i]\n",
    "    \n",
    "    \n",
    "    dop_c = numpy.mat([0] * n + [-1] * m).transpose()\n",
    "    dop_a = numpy.concatenate((a, numpy.eye(m)), axis=1)\n",
    "    x = [0] * n + b\n",
    "    ib = list(range(n, n+m))\n",
    "    \n",
    "    while True:\n",
    "        \n",
    "        v, ib, nab = simplex(dop_a, dop_c, x, ib)\n",
    "        \n",
    "        if (numpy.array(v[n:n+m]) != 0).any():\n",
    "            print('Задача несовместна')\n",
    "        \n",
    "        if not (set(ib) and set(range(n, n+m))):\n",
    "            break\n",
    "            \n",
    "        for k in range(len(ib)):\n",
    "            if ib[k] >= n:\n",
    "                j = ib[k] - n\n",
    "                for i in set(range(n)) - set(ib):\n",
    "                    l = nab * a[:, i]\n",
    "                    if l[k] != 0:\n",
    "                        ib[k] = j\n",
    "                        break\n",
    "                else:\n",
    "                    idx = [True] * m\n",
    "                    idx[i] = False\n",
    "                    a = a[idx, :]\n",
    "                    dop_a = dop_a[idx, :]\n",
    "                    del b[i]\n",
    "                    n = n - 1\n",
    "                    x = [0] * n + b\n",
    "                    ib = range(n, n+m)\n",
    "                    break\n",
    "        else:\n",
    "            return simplex(a, c, x[:n], ib)"
   ]
  },
  {
   "cell_type": "code",
   "execution_count": 10,
   "metadata": {},
   "outputs": [
    {
     "name": "stdout",
     "output_type": "stream",
     "text": [
      "Best x:  [0, 0, 26.0, 4.0, 40.0, 0, 0, 0]\n",
      "Max fun:  362.0\n"
     ]
    }
   ],
   "source": [
    "a = numpy.mat( [[-2, -1, 1, -7, 0, 0, 0, 2],\n",
    "                [4, 2, -1, 0, 1, 5, -1, -5],\n",
    "                [1, 11, 0, 1, 0, 3, 1, 1]] , \n",
    "              dtype=numpy.float64)\n",
    "c = numpy.mat( [[6], [-9], [5], [-2], [6], [0], [-1], [3]], dtype=numpy.float64 )\n",
    "x = [4, 0, 6, 0, 4, 0, 0, 0]\n",
    "ib = [0, 2, 4]\n",
    "b = [-2, 14, 4]\n",
    "\n",
    "\n",
    "v, ind, _ = simplex_start(a, b, c)\n",
    "print('Best x: ',v)\n",
    "print('Max fun: ',(v*c)[0,0])"
   ]
  },
  {
   "cell_type": "code",
   "execution_count": 11,
   "metadata": {},
   "outputs": [
    {
     "name": "stdout",
     "output_type": "stream",
     "text": [
      "Best x:  [4.6249999999999991, 0, 0, 0, 0, 1.0000000000000002, 0, 2.375]\n",
      "Max fun:  -20.625\n"
     ]
    }
   ],
   "source": [
    "a = numpy.mat( [[2, -1, 1, -7.5, 0, 0, 0, 2],\n",
    "                [4, 2, -1, 0, 1, 5, -1, -4],\n",
    "                [1, -1, 1, -1, 0, 3, 1, 1]] , \n",
    "              dtype=numpy.float64)\n",
    "c = numpy.mat( [[-6], [-9], [-5], [2], [-6], [0], [1], [3]], dtype=numpy.float64 )\n",
    "x = [4, 0, 6, 0, 4, 0, 0, 0]\n",
    "ib = [0, 2, 4]\n",
    "b = [14, 14, 10]\n",
    "\n",
    "\n",
    "v, ind, _ = simplex_start(a, b, c)\n",
    "print('Best x: ',v)\n",
    "print('Max fun: ',(v*c)[0,0])"
   ]
  },
  {
   "cell_type": "code",
   "execution_count": 12,
   "metadata": {},
   "outputs": [
    {
     "name": "stdout",
     "output_type": "stream",
     "text": [
      "Best x:  [0, 9.4999999999999982, 5.3333333333333339, 1.5000000000000009, 0, 0, 3.6666666666666647, 0]\n",
      "Max fun:  32.6666666667\n"
     ]
    }
   ],
   "source": [
    "a = numpy.mat( [[0, 1, 4, 1, 0, -8, 1, 5],\n",
    "                [0, -1, 0, -1, 0, 0, 0, 0],\n",
    "                [0, 2, -1, 0, -1, 3, -1, 0],\n",
    "                [1, 1, 1, 1, 0, 3, 1, 1]\n",
    "               ] , \n",
    "              dtype=numpy.float64)\n",
    "c = numpy.mat( [[-5], [2], [3], [-4], [-6], [0], [1], [5]], dtype=numpy.float64 )\n",
    "b = [36, -11, 10, 20]\n",
    "\n",
    "\n",
    "v, ind, _ = simplex_start(a, b, c)\n",
    "print('Best x: ',v)\n",
    "print('Max fun: ',(v*c)[0,0])"
   ]
  },
  {
   "cell_type": "code",
   "execution_count": 13,
   "metadata": {},
   "outputs": [
    {
     "name": "stdout",
     "output_type": "stream",
     "text": [
      "Best x:  [0.25, 0.5, 0, 0, 0]\n",
      "Max fun:  -2.5\n"
     ]
    }
   ],
   "source": [
    "c = numpy.mat([[-4], [-3], [-7], [0], [0]], dtype=numpy.float64)\n",
    "a = numpy.mat([[-2, -1, -4, 1, 0],\n",
    "              [-2, -2, -2, 0, 1]], dtype=numpy.float64)\n",
    "b = [-1, -3/2]\n",
    "\n",
    "v, ind, _ = simplex_start(a, b, c)\n",
    "print('Best x: ',v)\n",
    "print('Max fun: ',(v*c)[0,0])"
   ]
  },
  {
   "cell_type": "code",
   "execution_count": 56,
   "metadata": {},
   "outputs": [
    {
     "ename": "NameError",
     "evalue": "name 'simplex_start' is not defined",
     "output_type": "error",
     "traceback": [
      "\u001b[0;31m---------------------------------------------------------------------------\u001b[0m",
      "\u001b[0;31mNameError\u001b[0m                                 Traceback (most recent call last)",
      "\u001b[0;32m<ipython-input-56-05c72757dda0>\u001b[0m in \u001b[0;36m<module>\u001b[0;34m()\u001b[0m\n\u001b[1;32m     11\u001b[0m \u001b[0mb\u001b[0m \u001b[0;34m=\u001b[0m \u001b[0;34m[\u001b[0m\u001b[0;34m-\u001b[0m\u001b[0;36m2\u001b[0m\u001b[0;34m,\u001b[0m \u001b[0;36m4\u001b[0m\u001b[0;34m,\u001b[0m \u001b[0;36m3\u001b[0m\u001b[0;34m]\u001b[0m\u001b[0;34m\u001b[0m\u001b[0m\n\u001b[1;32m     12\u001b[0m \u001b[0;34m\u001b[0m\u001b[0m\n\u001b[0;32m---> 13\u001b[0;31m \u001b[0mv\u001b[0m\u001b[0;34m,\u001b[0m \u001b[0mind\u001b[0m\u001b[0;34m,\u001b[0m \u001b[0m_\u001b[0m \u001b[0;34m=\u001b[0m \u001b[0msimplex_start\u001b[0m\u001b[0;34m(\u001b[0m\u001b[0ma\u001b[0m\u001b[0;34m,\u001b[0m \u001b[0mb\u001b[0m\u001b[0;34m,\u001b[0m \u001b[0mc\u001b[0m\u001b[0;34m)\u001b[0m\u001b[0;34m\u001b[0m\u001b[0m\n\u001b[0m\u001b[1;32m     14\u001b[0m \u001b[0mprint\u001b[0m\u001b[0;34m(\u001b[0m\u001b[0;34m'Best x: '\u001b[0m\u001b[0;34m,\u001b[0m\u001b[0mv\u001b[0m\u001b[0;34m)\u001b[0m\u001b[0;34m\u001b[0m\u001b[0m\n\u001b[1;32m     15\u001b[0m \u001b[0mprint\u001b[0m\u001b[0;34m(\u001b[0m\u001b[0;34m'Max fun: '\u001b[0m\u001b[0;34m,\u001b[0m\u001b[0;34m(\u001b[0m\u001b[0mv\u001b[0m\u001b[0;34m*\u001b[0m\u001b[0mc\u001b[0m\u001b[0;34m)\u001b[0m\u001b[0;34m[\u001b[0m\u001b[0;36m0\u001b[0m\u001b[0;34m,\u001b[0m\u001b[0;36m0\u001b[0m\u001b[0;34m]\u001b[0m\u001b[0;34m)\u001b[0m\u001b[0;34m\u001b[0m\u001b[0m\n",
      "\u001b[0;31mNameError\u001b[0m: name 'simplex_start' is not defined"
     ]
    }
   ],
   "source": [
    "c = numpy.mat( [[2], [2], [1], [-10], [1], [4], [-2], [-3]])\n",
    "\n",
    "a = numpy.mat([\n",
    "              [-2, -1, 1, -7, 0, 0, 0, 2],\n",
    "              [4, 2, 1, 0, 1, 5, -1, -5],\n",
    "              [1, 1, 0, -1, 0, 3, -1, 1]\n",
    "              ]\n",
    "              ,dtype=numpy.float64\n",
    "             )\n",
    "\n",
    "b = [-2, 4, 3]\n",
    "\n",
    "v, ind, _ = simplex_start(a, b, c)\n",
    "print('Best x: ',v)\n",
    "print('Max fun: ',(v*c)[0,0])"
   ]
  },
  {
   "cell_type": "code",
   "execution_count": 103,
   "metadata": {},
   "outputs": [
    {
     "name": "stdout",
     "output_type": "stream",
     "text": [
      "ITER\n",
      "1\n",
      "z0: 1\n",
      "z: [[-2.]\n",
      " [ 1.]\n",
      " [-4.]]\n",
      "o: [0.5, 2.0, 0.75]\n",
      "o0: 0.5\n",
      "[0.0, 0.5, 2.5, 4, 1.0, 5, 0]\n",
      "ITER\n",
      "5\n",
      "z0: -1\n",
      "z: [[ -1.]\n",
      " [  2.]\n",
      " [ 10.]]\n",
      "o: [0.5, 0.75, 0.40000000000000002]\n",
      "o0: 0.4\n",
      "[0.0, 0.099999999999999978, 3.2999999999999998, 4, 5.0, 4.5999999999999996, 0]\n",
      "ITER\n",
      "Best x:  [0.0, 0.099999999999999978, 3.2999999999999998, 4, 5.0, 4.5999999999999996, 0]\n",
      "Max fun:  45.6\n",
      "ITER\n",
      "Best x:  [0.0, 0.099999999999999978, 3.2999999999999998, 4, 5.0, 4.5999999999999996, 0]\n",
      "Max fun:  45.6\n",
      "[[-13.]\n",
      " [ 13.]\n",
      " [ 29.]]\n"
     ]
    }
   ],
   "source": [
    "c = numpy.mat( [[1], [4], [4], [1], [1], [5], [1]])\n",
    "\n",
    "a = numpy.mat([\n",
    "              [1, 2, 0, -1, 0, -2, 1],\n",
    "              [0, -1, 1, -1, 0, 3, 2],\n",
    "              [0, 4, 0, -1, 1, 6, -4]\n",
    "              ]\n",
    "              ,dtype=numpy.float64\n",
    "             )\n",
    "\n",
    "x = [1, 0, 2, 4, 3, 5, 0]\n",
    "ib = [0, 2, 4]\n",
    "\n",
    "dd = [0, 0, 0, 0, 0, 0, 0]\n",
    "du = [5, 6, 4, 4, 5, 5, 6]\n",
    "\n",
    "x, ib, _ = simplex(a, c, x, ib, du, dd)\n",
    "print('Best x: ',x)\n",
    "print('Max fun: ',(x*c)[0,0])\n",
    "\n",
    "x, ib, _ = simplex(a, c, x, ib, du, dd)\n",
    "print('Best x: ',x)\n",
    "print('Max fun: ',(x*c)[0,0])\n",
    "\n",
    "print(a*numpy.matrix(x).T)"
   ]
  },
  {
   "cell_type": "code",
   "execution_count": null,
   "metadata": {},
   "outputs": [],
   "source": []
  },
  {
   "cell_type": "code",
   "execution_count": null,
   "metadata": {},
   "outputs": [],
   "source": []
  }
 ],
 "metadata": {
  "kernelspec": {
   "display_name": "Python 3",
   "language": "python",
   "name": "python3"
  },
  "language_info": {
   "codemirror_mode": {
    "name": "ipython",
    "version": 3
   },
   "file_extension": ".py",
   "mimetype": "text/x-python",
   "name": "python",
   "nbconvert_exporter": "python",
   "pygments_lexer": "ipython3",
   "version": "3.5.2"
  }
 },
 "nbformat": 4,
 "nbformat_minor": 2
}
