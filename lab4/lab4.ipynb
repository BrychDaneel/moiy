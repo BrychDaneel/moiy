{
 "cells": [
  {
   "cell_type": "code",
   "execution_count": 6,
   "metadata": {},
   "outputs": [],
   "source": [
    "import numpy\n",
    "from numpy import linalg"
   ]
  },
  {
   "cell_type": "code",
   "execution_count": 23,
   "metadata": {},
   "outputs": [],
   "source": [
    "def dual(a, b, c, jb):\n",
    "    n = len(c)\n",
    "    ab = a[:, jb]\n",
    "    nab = linalg.inv(ab)\n",
    "    cb = c[jb, :]\n",
    "    y = (cb.transpose() * nab).transpose()\n",
    "    while True:\n",
    "        jnb = list(set(range(n)) - set(jb))\n",
    "        ab = a[:, jb]\n",
    "        nab = linalg.inv(ab)\n",
    "        cb = c[jb, :]\n",
    "        cap = numpy.array([0] * n, dtype=numpy.float32)\n",
    "        cap[jb] = nab * b\n",
    "        ch = (cap >= 0).all()\n",
    "        if (cap >= -0.00000000001).all():\n",
    "            break\n",
    "        \n",
    "        q = 0\n",
    "        for i in range(1, len(jb)):\n",
    "            if cap[jb[i]] < cap[jb[q]] :\n",
    "                q = i\n",
    "        dy = nab[q]\n",
    "        \n",
    "        u = numpy.array([0] * n, dtype=numpy.float64)\n",
    "        u[jnb] = dy * a[:, jnb]\n",
    "\n",
    "        \n",
    "        if (u >= 0).all():\n",
    "            print('Задача несовместна')\n",
    "            return None, None\n",
    "        \n",
    "        g0 = None\n",
    "        qnb = None\n",
    "        for j in jnb:\n",
    "            if u[j] < 0:\n",
    "                gi = (c[j] - a.transpose()[j] * y) / u[j]\n",
    "                if g0 is None or g0 > gi:\n",
    "                    qnb = j\n",
    "                    g0 = gi\n",
    "        y += (g0 * dy).transpose()\n",
    "        \n",
    "        jb[q] = qnb\n",
    "        \n",
    "    return (cap * c)[0,0], cap \n",
    "   "
   ]
  },
  {
   "cell_type": "code",
   "execution_count": 24,
   "metadata": {},
   "outputs": [
    {
     "name": "stdout",
     "output_type": "stream",
     "text": [
      "Значние целевой функции:  -2.5\n",
      "План:  [ 0.25  0.5   0.    0.    0.  ]\n"
     ]
    },
    {
     "name": "stderr",
     "output_type": "stream",
     "text": [
      "/usr/local/lib/python3.5/dist-packages/ipykernel_launcher.py:13: DeprecationWarning: assignment will raise an error in the future, most likely because your index result shape does not match the value array shape. You can use `arr.flat[index] = values` to keep the old behaviour.\n",
      "  del sys.path[0]\n"
     ]
    }
   ],
   "source": [
    "c = numpy.mat([[-4], [-3], [-7], [0], [0]])\n",
    "a = numpy.mat([[-2, -1, -4, 1, 0],\n",
    "              [-2, -2, -2, 0, 1]])\n",
    "b = numpy.mat([[-1], [-3/2]])\n",
    "jb = [3, 4]\n",
    "\n",
    "f, x = dual(a,b,c,jb)\n",
    "print('Значние целевой функции: ',f)\n",
    "print('План: ', x)"
   ]
  },
  {
   "cell_type": "code",
   "execution_count": 26,
   "metadata": {},
   "outputs": [
    {
     "name": "stdout",
     "output_type": "stream",
     "text": [
      "Значeние целевой функции:  4.66666680574\n",
      "План:  [ 0.          2.66666675  0.          0.          0.33333334  0.          0.\n",
      "  0.33333334]\n"
     ]
    },
    {
     "name": "stderr",
     "output_type": "stream",
     "text": [
      "/usr/local/lib/python3.5/dist-packages/ipykernel_launcher.py:13: DeprecationWarning: assignment will raise an error in the future, most likely because your index result shape does not match the value array shape. You can use `arr.flat[index] = values` to keep the old behaviour.\n",
      "  del sys.path[0]\n"
     ]
    }
   ],
   "source": [
    "c = numpy.mat( [[2], [2], [1], [-10], [1], [4], [-2], [-3]])\n",
    "\n",
    "a = numpy.mat([\n",
    "              [-2, -1, 1, -7, 0, 0, 0, 2],\n",
    "              [4, 2, 1, 0, 1, 5, -1, -5],\n",
    "              [1, 1, 0, -1, 0, 3, -1, 1]\n",
    "              ]\n",
    "              ,dtype=numpy.float64\n",
    "             )\n",
    "\n",
    "b = numpy.mat([[-2], [4], [3]])\n",
    "\n",
    "jb = [1,4,6]\n",
    "\n",
    "f, x = dual(a,b,c,jb)\n",
    "print('Значeние целевой функции: ',f)\n",
    "print('План: ', x)"
   ]
  },
  {
   "cell_type": "code",
   "execution_count": null,
   "metadata": {},
   "outputs": [],
   "source": []
  },
  {
   "cell_type": "code",
   "execution_count": null,
   "metadata": {},
   "outputs": [],
   "source": []
  }
 ],
 "metadata": {
  "kernelspec": {
   "display_name": "Python 3",
   "language": "python",
   "name": "python3"
  },
  "language_info": {
   "codemirror_mode": {
    "name": "ipython",
    "version": 3
   },
   "file_extension": ".py",
   "mimetype": "text/x-python",
   "name": "python",
   "nbconvert_exporter": "python",
   "pygments_lexer": "ipython3",
   "version": "3.5.2"
  }
 },
 "nbformat": 4,
 "nbformat_minor": 2
}
